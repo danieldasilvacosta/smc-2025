version https://git-lfs.github.com/spec/v1
oid sha256:8201485eb1293baa1f19dc7594da96e453369498252c86140439a76cdf72ac59
size 16534
