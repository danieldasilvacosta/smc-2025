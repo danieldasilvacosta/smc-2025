version https://git-lfs.github.com/spec/v1
oid sha256:be1039af0319eed2fa965a857a30230a3fa0aab946b81fa895b3f42ee7fe8a5a
size 1268868
